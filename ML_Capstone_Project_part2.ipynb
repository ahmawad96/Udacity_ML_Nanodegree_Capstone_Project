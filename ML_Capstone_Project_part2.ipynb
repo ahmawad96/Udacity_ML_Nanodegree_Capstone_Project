{
  "nbformat": 4,
  "nbformat_minor": 0,
  "metadata": {
    "colab": {
      "name": "ML_Capstone_Project_part2.ipynb",
      "provenance": [],
      "collapsed_sections": [],
      "toc_visible": true
    },
    "kernelspec": {
      "name": "python3",
      "display_name": "Python 3"
    },
    "accelerator": "GPU"
  },
  "cells": [
    {
      "cell_type": "markdown",
      "metadata": {
        "id": "NjgxFbD2dAHE",
        "colab_type": "text"
      },
      "source": [
        "# Mounting drive and unzipping Dataset"
      ]
    },
    {
      "cell_type": "code",
      "metadata": {
        "id": "D7l6ADhZD2aU",
        "colab_type": "code",
        "colab": {}
      },
      "source": [
        "import warnings\n",
        "warnings.filterwarnings('ignore')"
      ],
      "execution_count": 0,
      "outputs": []
    },
    {
      "cell_type": "code",
      "metadata": {
        "id": "4-LyUAosDmcV",
        "colab_type": "code",
        "outputId": "0aec1889-86e0-4036-db39-8225871c6624",
        "colab": {
          "base_uri": "https://localhost:8080/",
          "height": 121
        }
      },
      "source": [
        "from google.colab import drive\n",
        "drive.mount('/content/drive')"
      ],
      "execution_count": 2,
      "outputs": [
        {
          "output_type": "stream",
          "text": [
            "Go to this URL in a browser: https://accounts.google.com/o/oauth2/auth?client_id=947318989803-6bn6qk8qdgf4n4g3pfee6491hc0brc4i.apps.googleusercontent.com&redirect_uri=urn%3Aietf%3Awg%3Aoauth%3A2.0%3Aoob&scope=email%20https%3A%2F%2Fwww.googleapis.com%2Fauth%2Fdocs.test%20https%3A%2F%2Fwww.googleapis.com%2Fauth%2Fdrive%20https%3A%2F%2Fwww.googleapis.com%2Fauth%2Fdrive.photos.readonly%20https%3A%2F%2Fwww.googleapis.com%2Fauth%2Fpeopleapi.readonly&response_type=code\n",
            "\n",
            "Enter your authorization code:\n",
            "··········\n",
            "Mounted at /content/drive\n"
          ],
          "name": "stdout"
        }
      ]
    },
    {
      "cell_type": "code",
      "metadata": {
        "id": "z-f8uzbmDnGD",
        "colab_type": "code",
        "colab": {}
      },
      "source": [
        "import zipfile\n",
        "with zipfile.ZipFile('drive/My Drive/data_classifier_augmented.zip', 'r') as zip_ref:\n",
        "    zip_ref.extractall()"
      ],
      "execution_count": 0,
      "outputs": []
    },
    {
      "cell_type": "code",
      "metadata": {
        "id": "CGHkeBE105QB",
        "colab_type": "code",
        "outputId": "348fd650-98bc-4160-c714-8b237af79209",
        "colab": {
          "base_uri": "https://localhost:8080/",
          "height": 205
        }
      },
      "source": [
        "!pip install scipy==1.1.0\n"
      ],
      "execution_count": 4,
      "outputs": [
        {
          "output_type": "stream",
          "text": [
            "Collecting scipy==1.1.0\n",
            "\u001b[?25l  Downloading https://files.pythonhosted.org/packages/a8/0b/f163da98d3a01b3e0ef1cab8dd2123c34aee2bafbb1c5bffa354cc8a1730/scipy-1.1.0-cp36-cp36m-manylinux1_x86_64.whl (31.2MB)\n",
            "\u001b[K     |████████████████████████████████| 31.2MB 1.4MB/s \n",
            "\u001b[?25hRequirement already satisfied: numpy>=1.8.2 in /usr/local/lib/python3.6/dist-packages (from scipy==1.1.0) (1.16.5)\n",
            "\u001b[31mERROR: albumentations 0.1.12 has requirement imgaug<0.2.7,>=0.2.5, but you'll have imgaug 0.2.9 which is incompatible.\u001b[0m\n",
            "Installing collected packages: scipy\n",
            "  Found existing installation: scipy 1.3.1\n",
            "    Uninstalling scipy-1.3.1:\n",
            "      Successfully uninstalled scipy-1.3.1\n",
            "Successfully installed scipy-1.1.0\n"
          ],
          "name": "stdout"
        }
      ]
    },
    {
      "cell_type": "markdown",
      "metadata": {
        "id": "20a7Dh3w0Gs3",
        "colab_type": "text"
      },
      "source": [
        "# Preprocessing part 2"
      ]
    },
    {
      "cell_type": "code",
      "metadata": {
        "id": "egOQhOxzErf-",
        "colab_type": "code",
        "colab": {}
      },
      "source": [
        "import pandas as pd\n",
        "import seaborn as sns\n",
        "import numpy as np\n",
        "import keras\n",
        "import math\n",
        "from scipy.misc import imread,imresize\n",
        "from keras.models import Sequential, Model\n",
        "from keras.layers import Dense, Dropout, Flatten,Input\n",
        "from keras.layers import Conv2D, MaxPooling2D\n",
        "from keras.regularizers import l2\n",
        "from keras.initializers import TruncatedNormal, Constant"
      ],
      "execution_count": 0,
      "outputs": []
    },
    {
      "cell_type": "code",
      "metadata": {
        "id": "nAQVEDA-dumw",
        "colab_type": "code",
        "colab": {}
      },
      "source": [
        "def plot_classes(df):\n",
        "  forward_class= df.forward[df['forward']==1].count()\n",
        "  right_class=df.right[df['right']==1].count()\n",
        "  left_class=df.left[df['left']==1].count()\n",
        "  not_valid=df.left[(df['left']==0) & (df['right']==0) & (df['forward']==0)].count()\n",
        "  classes=[ 'forward', 'right', 'left', 'non-valid']\n",
        "  percentages= [forward_class, right_class, left_class, not_valid]\n",
        "  sns.barplot(x=classes, y=percentages)"
      ],
      "execution_count": 0,
      "outputs": []
    },
    {
      "cell_type": "code",
      "metadata": {
        "id": "vP-zj8XrGgri",
        "colab_type": "code",
        "outputId": "e8a3a090-a809-4eb2-8700-944f9b454071",
        "colab": {
          "base_uri": "https://localhost:8080/",
          "height": 343
        }
      },
      "source": [
        "data= pd.read_csv(\"labels_augmented.csv\")\n",
        "data.drop([\"Unnamed: 0\"], axis=1,inplace=True)\n",
        "\n",
        "data.head(10)"
      ],
      "execution_count": 7,
      "outputs": [
        {
          "output_type": "execute_result",
          "data": {
            "text/html": [
              "<div>\n",
              "<style scoped>\n",
              "    .dataframe tbody tr th:only-of-type {\n",
              "        vertical-align: middle;\n",
              "    }\n",
              "\n",
              "    .dataframe tbody tr th {\n",
              "        vertical-align: top;\n",
              "    }\n",
              "\n",
              "    .dataframe thead th {\n",
              "        text-align: right;\n",
              "    }\n",
              "</style>\n",
              "<table border=\"1\" class=\"dataframe\">\n",
              "  <thead>\n",
              "    <tr style=\"text-align: right;\">\n",
              "      <th></th>\n",
              "      <th>img</th>\n",
              "      <th>forward</th>\n",
              "      <th>right</th>\n",
              "      <th>left</th>\n",
              "    </tr>\n",
              "  </thead>\n",
              "  <tbody>\n",
              "    <tr>\n",
              "      <th>0</th>\n",
              "      <td>17546.jpg</td>\n",
              "      <td>0</td>\n",
              "      <td>1</td>\n",
              "      <td>0</td>\n",
              "    </tr>\n",
              "    <tr>\n",
              "      <th>1</th>\n",
              "      <td>48191.jpg</td>\n",
              "      <td>1</td>\n",
              "      <td>0</td>\n",
              "      <td>0</td>\n",
              "    </tr>\n",
              "    <tr>\n",
              "      <th>2</th>\n",
              "      <td>2977.jpg</td>\n",
              "      <td>0</td>\n",
              "      <td>1</td>\n",
              "      <td>0</td>\n",
              "    </tr>\n",
              "    <tr>\n",
              "      <th>3</th>\n",
              "      <td>51541.jpg</td>\n",
              "      <td>0</td>\n",
              "      <td>0</td>\n",
              "      <td>1</td>\n",
              "    </tr>\n",
              "    <tr>\n",
              "      <th>4</th>\n",
              "      <td>13236.jpg</td>\n",
              "      <td>1</td>\n",
              "      <td>0</td>\n",
              "      <td>0</td>\n",
              "    </tr>\n",
              "    <tr>\n",
              "      <th>5</th>\n",
              "      <td>39230.jpg</td>\n",
              "      <td>0</td>\n",
              "      <td>0</td>\n",
              "      <td>1</td>\n",
              "    </tr>\n",
              "    <tr>\n",
              "      <th>6</th>\n",
              "      <td>57295.jpg</td>\n",
              "      <td>0</td>\n",
              "      <td>0</td>\n",
              "      <td>1</td>\n",
              "    </tr>\n",
              "    <tr>\n",
              "      <th>7</th>\n",
              "      <td>31387.jpg</td>\n",
              "      <td>0</td>\n",
              "      <td>1</td>\n",
              "      <td>0</td>\n",
              "    </tr>\n",
              "    <tr>\n",
              "      <th>8</th>\n",
              "      <td>25567.jpg</td>\n",
              "      <td>1</td>\n",
              "      <td>0</td>\n",
              "      <td>0</td>\n",
              "    </tr>\n",
              "    <tr>\n",
              "      <th>9</th>\n",
              "      <td>127.jpg</td>\n",
              "      <td>0</td>\n",
              "      <td>1</td>\n",
              "      <td>0</td>\n",
              "    </tr>\n",
              "  </tbody>\n",
              "</table>\n",
              "</div>"
            ],
            "text/plain": [
              "         img  forward  right  left\n",
              "0  17546.jpg        0      1     0\n",
              "1  48191.jpg        1      0     0\n",
              "2   2977.jpg        0      1     0\n",
              "3  51541.jpg        0      0     1\n",
              "4  13236.jpg        1      0     0\n",
              "5  39230.jpg        0      0     1\n",
              "6  57295.jpg        0      0     1\n",
              "7  31387.jpg        0      1     0\n",
              "8  25567.jpg        1      0     0\n",
              "9    127.jpg        0      1     0"
            ]
          },
          "metadata": {
            "tags": []
          },
          "execution_count": 7
        }
      ]
    },
    {
      "cell_type": "markdown",
      "metadata": {
        "id": "zGF231fH0gGO",
        "colab_type": "text"
      },
      "source": [
        "## Downsampling"
      ]
    },
    {
      "cell_type": "code",
      "metadata": {
        "id": "-es_LiTbHvAj",
        "colab_type": "code",
        "colab": {}
      },
      "source": [
        "def downsample (df):\n",
        "  '''\n",
        "  Takes a dataset in a dataframe and downsample the data till each class \n",
        "  has the same number of examples as others. Returns the downsampled dataframe.\n",
        "  Note: The function is not generic and is meant to serve the structure of my own dataset.\n",
        "  '''\n",
        "  forward_class= df.forward[data['forward']==1].count()\n",
        "  right_class=df.right[data['right']==1].count()\n",
        "  left_class=df.left[data['left']==1].count()\n",
        "  \n",
        "  class_size= min(forward_class, right_class, left_class)\n",
        "  forward = data[data['forward']==1].sample(n=class_size,random_state=42)\n",
        "  left= data[data['left']==1].sample(n=class_size, random_state=42)\n",
        "  right= data[data[\"right\"]==1].sample(n=class_size, random_state=42)\n",
        "  \n",
        "  downsampled= pd.concat([forward, left, right]).sample(frac=1).reset_index(drop=True)\n",
        "  \n",
        "  return downsampled\n",
        "\n",
        "\n",
        "  "
      ],
      "execution_count": 0,
      "outputs": []
    },
    {
      "cell_type": "code",
      "metadata": {
        "id": "XCj9ltja-lqv",
        "colab_type": "code",
        "colab": {}
      },
      "source": [
        "data_downsampled= downsample(data)"
      ],
      "execution_count": 0,
      "outputs": []
    },
    {
      "cell_type": "code",
      "metadata": {
        "id": "8_HSoz5TDIGO",
        "colab_type": "code",
        "outputId": "79fd3d75-70dd-4a7c-f7d2-7eccfbbcfa91",
        "colab": {
          "base_uri": "https://localhost:8080/",
          "height": 343
        }
      },
      "source": [
        "data_downsampled.head(10)"
      ],
      "execution_count": 10,
      "outputs": [
        {
          "output_type": "execute_result",
          "data": {
            "text/html": [
              "<div>\n",
              "<style scoped>\n",
              "    .dataframe tbody tr th:only-of-type {\n",
              "        vertical-align: middle;\n",
              "    }\n",
              "\n",
              "    .dataframe tbody tr th {\n",
              "        vertical-align: top;\n",
              "    }\n",
              "\n",
              "    .dataframe thead th {\n",
              "        text-align: right;\n",
              "    }\n",
              "</style>\n",
              "<table border=\"1\" class=\"dataframe\">\n",
              "  <thead>\n",
              "    <tr style=\"text-align: right;\">\n",
              "      <th></th>\n",
              "      <th>img</th>\n",
              "      <th>forward</th>\n",
              "      <th>right</th>\n",
              "      <th>left</th>\n",
              "    </tr>\n",
              "  </thead>\n",
              "  <tbody>\n",
              "    <tr>\n",
              "      <th>0</th>\n",
              "      <td>44414.jpg</td>\n",
              "      <td>1</td>\n",
              "      <td>0</td>\n",
              "      <td>0</td>\n",
              "    </tr>\n",
              "    <tr>\n",
              "      <th>1</th>\n",
              "      <td>56762.jpg</td>\n",
              "      <td>1</td>\n",
              "      <td>0</td>\n",
              "      <td>0</td>\n",
              "    </tr>\n",
              "    <tr>\n",
              "      <th>2</th>\n",
              "      <td>58964.jpg</td>\n",
              "      <td>0</td>\n",
              "      <td>1</td>\n",
              "      <td>0</td>\n",
              "    </tr>\n",
              "    <tr>\n",
              "      <th>3</th>\n",
              "      <td>42758.jpg</td>\n",
              "      <td>0</td>\n",
              "      <td>1</td>\n",
              "      <td>0</td>\n",
              "    </tr>\n",
              "    <tr>\n",
              "      <th>4</th>\n",
              "      <td>23.jpg</td>\n",
              "      <td>0</td>\n",
              "      <td>0</td>\n",
              "      <td>1</td>\n",
              "    </tr>\n",
              "    <tr>\n",
              "      <th>5</th>\n",
              "      <td>18983.jpg</td>\n",
              "      <td>0</td>\n",
              "      <td>0</td>\n",
              "      <td>1</td>\n",
              "    </tr>\n",
              "    <tr>\n",
              "      <th>6</th>\n",
              "      <td>20458.jpg</td>\n",
              "      <td>1</td>\n",
              "      <td>0</td>\n",
              "      <td>0</td>\n",
              "    </tr>\n",
              "    <tr>\n",
              "      <th>7</th>\n",
              "      <td>30657.jpg</td>\n",
              "      <td>0</td>\n",
              "      <td>0</td>\n",
              "      <td>1</td>\n",
              "    </tr>\n",
              "    <tr>\n",
              "      <th>8</th>\n",
              "      <td>10410.jpg</td>\n",
              "      <td>0</td>\n",
              "      <td>0</td>\n",
              "      <td>1</td>\n",
              "    </tr>\n",
              "    <tr>\n",
              "      <th>9</th>\n",
              "      <td>1242.jpg</td>\n",
              "      <td>0</td>\n",
              "      <td>0</td>\n",
              "      <td>1</td>\n",
              "    </tr>\n",
              "  </tbody>\n",
              "</table>\n",
              "</div>"
            ],
            "text/plain": [
              "         img  forward  right  left\n",
              "0  44414.jpg        1      0     0\n",
              "1  56762.jpg        1      0     0\n",
              "2  58964.jpg        0      1     0\n",
              "3  42758.jpg        0      1     0\n",
              "4     23.jpg        0      0     1\n",
              "5  18983.jpg        0      0     1\n",
              "6  20458.jpg        1      0     0\n",
              "7  30657.jpg        0      0     1\n",
              "8  10410.jpg        0      0     1\n",
              "9   1242.jpg        0      0     1"
            ]
          },
          "metadata": {
            "tags": []
          },
          "execution_count": 10
        }
      ]
    },
    {
      "cell_type": "code",
      "metadata": {
        "id": "6eeeQ1quAI4v",
        "colab_type": "code",
        "outputId": "1723c77b-ca96-4172-eb08-7eda0437eb0d",
        "colab": {
          "base_uri": "https://localhost:8080/",
          "height": 34
        }
      },
      "source": [
        "print(data_downsampled.index.max())"
      ],
      "execution_count": 11,
      "outputs": [
        {
          "output_type": "stream",
          "text": [
            "54683\n"
          ],
          "name": "stdout"
        }
      ]
    },
    {
      "cell_type": "code",
      "metadata": {
        "id": "cooXEvHDC_lM",
        "colab_type": "code",
        "outputId": "4105644c-71f1-41b8-e2a6-809cc32b6422",
        "colab": {
          "base_uri": "https://localhost:8080/",
          "height": 269
        }
      },
      "source": [
        "plot_classes(data_downsampled)"
      ],
      "execution_count": 12,
      "outputs": [
        {
          "output_type": "display_data",
          "data": {
            "image/png": "[encoded data removed]",
            "text/plain": [
              "<Figure size 432x288 with 1 Axes>"
            ]
          },
          "metadata": {
            "tags": []
          }
        }
      ]
    },
    {
      "cell_type": "markdown",
      "metadata": {
        "id": "myPFQdaLoaXe",
        "colab_type": "text"
      },
      "source": [
        "**Note**: Image resizing and normalization will be done during loading data in patches, thus they are not included in the preprocessing section."
      ]
    },
    {
      "cell_type": "markdown",
      "metadata": {
        "id": "RZ2vpy1SQSFW",
        "colab_type": "text"
      },
      "source": [
        "## Splitting into Train, validation and test"
      ]
    },
    {
      "cell_type": "code",
      "metadata": {
        "id": "Q1I-xBXoFcRj",
        "colab_type": "code",
        "colab": {}
      },
      "source": [
        "train=data_downsampled[:int(data_downsampled.index.max()*0.75)]\n",
        "validation= data_downsampled[int(data_downsampled.index.max()*0.75):int(data_downsampled.index.max()*0.8)].reset_index(drop=True)\n",
        "test= data_downsampled[int(data_downsampled.index.max()*0.8):].reset_index(drop=True)\n"
      ],
      "execution_count": 0,
      "outputs": []
    },
    {
      "cell_type": "code",
      "metadata": {
        "id": "nb4gX6nhU7rz",
        "colab_type": "code",
        "outputId": "c868ccc3-5579-4fb8-8e7c-db2c2db78915",
        "colab": {
          "base_uri": "https://localhost:8080/",
          "height": 67
        }
      },
      "source": [
        "print(train.index.max())\n",
        "print(validation.index.max())\n",
        "print(test.index.max())"
      ],
      "execution_count": 43,
      "outputs": [
        {
          "output_type": "stream",
          "text": [
            "41011\n",
            "2733\n",
            "10937\n"
          ],
          "name": "stdout"
        }
      ]
    },
    {
      "cell_type": "code",
      "metadata": {
        "id": "PF4Ff6i9VVho",
        "colab_type": "code",
        "outputId": "040514f8-e81f-4c6f-b5d4-27dbd1d13256",
        "colab": {
          "base_uri": "https://localhost:8080/",
          "height": 195
        }
      },
      "source": [
        "test.head()"
      ],
      "execution_count": 15,
      "outputs": [
        {
          "output_type": "execute_result",
          "data": {
            "text/html": [
              "<div>\n",
              "<style scoped>\n",
              "    .dataframe tbody tr th:only-of-type {\n",
              "        vertical-align: middle;\n",
              "    }\n",
              "\n",
              "    .dataframe tbody tr th {\n",
              "        vertical-align: top;\n",
              "    }\n",
              "\n",
              "    .dataframe thead th {\n",
              "        text-align: right;\n",
              "    }\n",
              "</style>\n",
              "<table border=\"1\" class=\"dataframe\">\n",
              "  <thead>\n",
              "    <tr style=\"text-align: right;\">\n",
              "      <th></th>\n",
              "      <th>img</th>\n",
              "      <th>forward</th>\n",
              "      <th>right</th>\n",
              "      <th>left</th>\n",
              "    </tr>\n",
              "  </thead>\n",
              "  <tbody>\n",
              "    <tr>\n",
              "      <th>0</th>\n",
              "      <td>27520.jpg</td>\n",
              "      <td>0</td>\n",
              "      <td>1</td>\n",
              "      <td>0</td>\n",
              "    </tr>\n",
              "    <tr>\n",
              "      <th>1</th>\n",
              "      <td>176.jpg</td>\n",
              "      <td>1</td>\n",
              "      <td>0</td>\n",
              "      <td>0</td>\n",
              "    </tr>\n",
              "    <tr>\n",
              "      <th>2</th>\n",
              "      <td>35149.jpg</td>\n",
              "      <td>1</td>\n",
              "      <td>0</td>\n",
              "      <td>0</td>\n",
              "    </tr>\n",
              "    <tr>\n",
              "      <th>3</th>\n",
              "      <td>62685.jpg</td>\n",
              "      <td>0</td>\n",
              "      <td>1</td>\n",
              "      <td>0</td>\n",
              "    </tr>\n",
              "    <tr>\n",
              "      <th>4</th>\n",
              "      <td>10596.jpg</td>\n",
              "      <td>0</td>\n",
              "      <td>1</td>\n",
              "      <td>0</td>\n",
              "    </tr>\n",
              "  </tbody>\n",
              "</table>\n",
              "</div>"
            ],
            "text/plain": [
              "         img  forward  right  left\n",
              "0  27520.jpg        0      1     0\n",
              "1    176.jpg        1      0     0\n",
              "2  35149.jpg        1      0     0\n",
              "3  62685.jpg        0      1     0\n",
              "4  10596.jpg        0      1     0"
            ]
          },
          "metadata": {
            "tags": []
          },
          "execution_count": 15
        }
      ]
    },
    {
      "cell_type": "code",
      "metadata": {
        "id": "tBGPQxqAYrwQ",
        "colab_type": "code",
        "outputId": "46e419e4-db4a-4f13-faea-f0d608574ce0",
        "colab": {
          "base_uri": "https://localhost:8080/",
          "height": 269
        }
      },
      "source": [
        "plot_classes(test)"
      ],
      "execution_count": 16,
      "outputs": [
        {
          "output_type": "display_data",
          "data": {
            "image/png": "[encoded data removed]",
            "text/plain": [
              "<Figure size 432x288 with 1 Axes>"
            ]
          },
          "metadata": {
            "tags": []
          }
        }
      ]
    },
    {
      "cell_type": "markdown",
      "metadata": {
        "id": "96C5GkZVaZKO",
        "colab_type": "text"
      },
      "source": [
        "* After splitting, the test set is almost balanced and doesn't need any further sampling."
      ]
    },
    {
      "cell_type": "markdown",
      "metadata": {
        "id": "qQ87L10UbiTt",
        "colab_type": "text"
      },
      "source": [
        "# Benchmarking"
      ]
    },
    {
      "cell_type": "markdown",
      "metadata": {
        "id": "GYR_drbZbrCy",
        "colab_type": "text"
      },
      "source": [
        "* For benchmarking, a simple assumption is proposed that all examples are classified as Forward class.\n",
        "* Using accuracy metric, let's evaluate this naive model."
      ]
    },
    {
      "cell_type": "code",
      "metadata": {
        "id": "6KviXztFcaXB",
        "colab_type": "code",
        "outputId": "4b10b55c-b508-455f-97c4-9bf2bfb7f85d",
        "colab": {
          "base_uri": "https://localhost:8080/",
          "height": 34
        }
      },
      "source": [
        "forward_class= test.forward[test['forward']==1].count()\n",
        "total= test.index.max()+1\n",
        "benchmark_acc= forward_class/total\n",
        "print(\"The Naive model benchmark gives accuracy of {}%\".format(benchmark_acc*100))"
      ],
      "execution_count": 17,
      "outputs": [
        {
          "output_type": "stream",
          "text": [
            "The Naive model benchmark gives accuracy of 33.689888462241726%\n"
          ],
          "name": "stdout"
        }
      ]
    },
    {
      "cell_type": "code",
      "metadata": {
        "id": "P_iZlG4uc2g5",
        "colab_type": "code",
        "colab": {}
      },
      "source": [
        ""
      ],
      "execution_count": 0,
      "outputs": []
    },
    {
      "cell_type": "markdown",
      "metadata": {
        "id": "THn6klj4oI0L",
        "colab_type": "text"
      },
      "source": [
        "# Training a CNN model from scratch"
      ]
    },
    {
      "cell_type": "markdown",
      "metadata": {
        "id": "DAl1hutYuZqO",
        "colab_type": "text"
      },
      "source": [
        "## Model Architecture"
      ]
    },
    {
      "cell_type": "code",
      "metadata": {
        "id": "li0kyflkoQXL",
        "colab_type": "code",
        "colab": {}
      },
      "source": [
        "def getmodel():\n",
        "    model=Sequential()\n",
        "    model.add(Conv2D(12,(5,5),strides=(2,2),kernel_initializer=TruncatedNormal(stddev=0.1),bias_initializer=Constant(value=0.1),activation='elu',input_shape=(66,200,3),use_bias=True))\n",
        "    model.add(MaxPooling2D(pool_size=(2, 2)))\n",
        "    model.add(Conv2D(16,(3,3),strides=(2,2),kernel_initializer=TruncatedNormal(stddev=0.1),bias_initializer=Constant(value=0.1),activation='elu',use_bias=True))\n",
        "    model.add(Conv2D(24,(5,5),strides=(2,2),kernel_initializer=TruncatedNormal(stddev=0.1),bias_initializer=Constant(value=0.1),activation='elu',use_bias=True))\n",
        "    model.add(Flatten())\n",
        "    model.add(Dense(units=1000,kernel_initializer=TruncatedNormal(stddev=0.1),bias_initializer=Constant(value=0.1),activation='elu',input_dim=960))\n",
        "    model.add(Dropout(0.2))\n",
        "    model.add(Dense(units=100,kernel_initializer=TruncatedNormal(stddev=0.1),bias_initializer=Constant(value=0.1),activation='elu',input_dim=1024))\n",
        "    model.add(Dropout(0.2))\n",
        "    model.add(Dense(units=10,kernel_initializer=TruncatedNormal(stddev=0.1),bias_initializer=Constant(value=0.1),activation='elu',input_dim=50))\n",
        "    model.add(Dropout(0.2))\n",
        "    model.add(Dense(units=3,kernel_initializer=TruncatedNormal(stddev=0.1),bias_initializer=Constant(value=0.1),activation='softmax',input_dim=10))\n",
        "    \n",
        "  \n",
        "    \n",
        "    return model\n",
        "model=getmodel()\n"
      ],
      "execution_count": 0,
      "outputs": []
    },
    {
      "cell_type": "code",
      "metadata": {
        "id": "7wFyfghfpulW",
        "colab_type": "code",
        "outputId": "f36482e6-b5b1-4346-a183-c37db5af1c43",
        "colab": {
          "base_uri": "https://localhost:8080/",
          "height": 554
        }
      },
      "source": [
        "model.summary()"
      ],
      "execution_count": 49,
      "outputs": [
        {
          "output_type": "stream",
          "text": [
            "Model: \"sequential_3\"\n",
            "_________________________________________________________________\n",
            "Layer (type)                 Output Shape              Param #   \n",
            "=================================================================\n",
            "conv2d_7 (Conv2D)            (None, 31, 98, 12)        912       \n",
            "_________________________________________________________________\n",
            "max_pooling2d_3 (MaxPooling2 (None, 15, 49, 12)        0         \n",
            "_________________________________________________________________\n",
            "conv2d_8 (Conv2D)            (None, 7, 24, 16)         1744      \n",
            "_________________________________________________________________\n",
            "conv2d_9 (Conv2D)            (None, 2, 10, 24)         9624      \n",
            "_________________________________________________________________\n",
            "flatten_3 (Flatten)          (None, 480)               0         \n",
            "_________________________________________________________________\n",
            "dense_9 (Dense)              (None, 1000)              481000    \n",
            "_________________________________________________________________\n",
            "dropout_7 (Dropout)          (None, 1000)              0         \n",
            "_________________________________________________________________\n",
            "dense_10 (Dense)             (None, 100)               100100    \n",
            "_________________________________________________________________\n",
            "dropout_8 (Dropout)          (None, 100)               0         \n",
            "_________________________________________________________________\n",
            "dense_11 (Dense)             (None, 10)                1010      \n",
            "_________________________________________________________________\n",
            "dropout_9 (Dropout)          (None, 10)                0         \n",
            "_________________________________________________________________\n",
            "dense_12 (Dense)             (None, 3)                 33        \n",
            "=================================================================\n",
            "Total params: 594,423\n",
            "Trainable params: 594,423\n",
            "Non-trainable params: 0\n",
            "_________________________________________________________________\n"
          ],
          "name": "stdout"
        }
      ]
    },
    {
      "cell_type": "markdown",
      "metadata": {
        "id": "C9b0jlLqufDQ",
        "colab_type": "text"
      },
      "source": [
        "## Training"
      ]
    },
    {
      "cell_type": "code",
      "metadata": {
        "colab_type": "code",
        "id": "dLWpfFia51qn",
        "colab": {}
      },
      "source": [
        "batch_pointer= 0\n",
        "base_path='data_classifier_augmented'\n",
        "def generate_batch(df, batch_size=512):\n",
        "    global batch_pointer\n",
        "    train_data=df.index.max()+1\n",
        "    y=np.array(df.drop(['img'],inplace=False,axis=1))\n",
        "   \n",
        "    while True:\n",
        "        batch_start=batch_pointer%train_data\n",
        "        batch_end=(batch_pointer+batch_size)%train_data\n",
        "        if batch_end < batch_start:\n",
        "          batch_end= train.index.max()\n",
        "        \n",
        "        X_batch=df.img[batch_start:batch_end]\n",
        "        y_batch = y[batch_start:batch_end]\n",
        "        images = np.array([np.int32(imresize(imread('/'.join([base_path, im]))[-150:], size=(66, 200))) /255 for im in X_batch])\n",
        "\n",
        "        \n",
        "        batch_pointer+=batch_size\n",
        "        if batch_end==train.index.max():\n",
        "          batch_pointer=0\n",
        "        batch_pointer%=train_data\n",
        "        \n",
        "        yield images,y_batch"
      ],
      "execution_count": 0,
      "outputs": []
    },
    {
      "cell_type": "code",
      "metadata": {
        "id": "1htPFC40rZGW",
        "colab_type": "code",
        "colab": {}
      },
      "source": [
        "val_imgs=np.array([np.int32(\n",
        "    imresize(imread('/'.join([base_path, im]))[-150:], size=(\n",
        "        66, 200))) /255 for im in validation.img])\n",
        "y_val= np.array(validation.drop(['img'],inplace=False, axis=1))"
      ],
      "execution_count": 0,
      "outputs": []
    },
    {
      "cell_type": "code",
      "metadata": {
        "id": "XyN-9C8M7aTu",
        "colab_type": "code",
        "outputId": "a72e8db8-2477-421e-e580-5c7c0140e052",
        "colab": {
          "base_uri": "https://localhost:8080/",
          "height": 34
        }
      },
      "source": [
        "import tensorflow as tf\n",
        "tf.test.gpu_device_name()"
      ],
      "execution_count": 21,
      "outputs": [
        {
          "output_type": "execute_result",
          "data": {
            "text/plain": [
              "'/device:GPU:0'"
            ]
          },
          "metadata": {
            "tags": []
          },
          "execution_count": 21
        }
      ]
    },
    {
      "cell_type": "code",
      "metadata": {
        "id": "5f3D72s4zE-I",
        "colab_type": "code",
        "colab": {}
      },
      "source": [
        "model.compile(loss='categorical_crossentropy', optimizer='adam', metrics=['accuracy'])"
      ],
      "execution_count": 0,
      "outputs": []
    },
    {
      "cell_type": "code",
      "metadata": {
        "colab_type": "code",
        "outputId": "6f4e0bd4-49cd-4d5a-8b20-d97d1392ff95",
        "id": "JDhdUmVU4aId",
        "colab": {
          "base_uri": "https://localhost:8080/",
          "height": 1000
        }
      },
      "source": [
        "steps= math.ceil((train.index.max()+1)/128)\n",
        "model.fit_generator(generate_batch(train,128),steps_per_epoch=steps ,\n",
        "                    epochs=30,verbose=1, validation_data=(val_imgs,y_val))\n"
      ],
      "execution_count": 51,
      "outputs": [
        {
          "output_type": "stream",
          "text": [
            "Epoch 1/30\n",
            "321/321 [==============================] - 128s 399ms/step - loss: 0.7096 - acc: 0.6770 - val_loss: 0.6102 - val_acc: 0.7249\n",
            "Epoch 2/30\n",
            "321/321 [==============================] - 127s 395ms/step - loss: 0.6136 - acc: 0.7263 - val_loss: 0.5531 - val_acc: 0.7542\n",
            "Epoch 3/30\n",
            "321/321 [==============================] - 127s 395ms/step - loss: 0.5712 - acc: 0.7475 - val_loss: 0.5267 - val_acc: 0.7590\n",
            "Epoch 4/30\n",
            "321/321 [==============================] - 127s 394ms/step - loss: 0.5424 - acc: 0.7609 - val_loss: 0.4939 - val_acc: 0.7791\n",
            "Epoch 5/30\n",
            "321/321 [==============================] - 127s 395ms/step - loss: 0.5155 - acc: 0.7716 - val_loss: 0.4802 - val_acc: 0.7890\n",
            "Epoch 6/30\n",
            "321/321 [==============================] - 127s 395ms/step - loss: 0.4928 - acc: 0.7815 - val_loss: 0.4644 - val_acc: 0.7893\n",
            "Epoch 7/30\n",
            "321/321 [==============================] - 127s 395ms/step - loss: 0.4694 - acc: 0.7923 - val_loss: 0.4564 - val_acc: 0.7955\n",
            "Epoch 8/30\n",
            "321/321 [==============================] - 127s 394ms/step - loss: 0.4531 - acc: 0.8007 - val_loss: 0.4411 - val_acc: 0.8029\n",
            "Epoch 9/30\n",
            "321/321 [==============================] - 126s 392ms/step - loss: 0.4326 - acc: 0.8108 - val_loss: 0.4381 - val_acc: 0.8025\n",
            "Epoch 10/30\n",
            "321/321 [==============================] - 125s 390ms/step - loss: 0.4130 - acc: 0.8188 - val_loss: 0.4385 - val_acc: 0.8003\n",
            "Epoch 11/30\n",
            "321/321 [==============================] - 126s 392ms/step - loss: 0.3913 - acc: 0.8300 - val_loss: 0.3970 - val_acc: 0.8248\n",
            "Epoch 12/30\n",
            "321/321 [==============================] - 125s 390ms/step - loss: 0.3612 - acc: 0.8470 - val_loss: 0.3883 - val_acc: 0.8248\n",
            "Epoch 13/30\n",
            "321/321 [==============================] - 125s 390ms/step - loss: 0.3382 - acc: 0.8593 - val_loss: 0.3527 - val_acc: 0.8500\n",
            "Epoch 14/30\n",
            "321/321 [==============================] - 124s 388ms/step - loss: 0.3135 - acc: 0.8692 - val_loss: 0.3402 - val_acc: 0.8537\n",
            "Epoch 15/30\n",
            "321/321 [==============================] - 124s 388ms/step - loss: 0.2906 - acc: 0.8800 - val_loss: 0.3291 - val_acc: 0.8577\n",
            "Epoch 16/30\n",
            "321/321 [==============================] - 125s 388ms/step - loss: 0.2721 - acc: 0.8890 - val_loss: 0.3108 - val_acc: 0.8654\n",
            "Epoch 17/30\n",
            "321/321 [==============================] - 124s 386ms/step - loss: 0.2668 - acc: 0.8905 - val_loss: 0.3501 - val_acc: 0.8617\n",
            "Epoch 18/30\n",
            "321/321 [==============================] - 123s 385ms/step - loss: 0.2570 - acc: 0.8960 - val_loss: 0.3216 - val_acc: 0.8713\n",
            "Epoch 19/30\n",
            "321/321 [==============================] - 123s 384ms/step - loss: 0.2330 - acc: 0.9040 - val_loss: 0.3480 - val_acc: 0.8691\n",
            "Epoch 20/30\n",
            "321/321 [==============================] - 124s 385ms/step - loss: 0.2217 - acc: 0.9115 - val_loss: 0.3314 - val_acc: 0.8705\n",
            "Epoch 21/30\n",
            "321/321 [==============================] - 123s 382ms/step - loss: 0.2183 - acc: 0.9121 - val_loss: 0.3300 - val_acc: 0.8778\n",
            "Epoch 22/30\n",
            "321/321 [==============================] - 123s 384ms/step - loss: 0.1934 - acc: 0.9240 - val_loss: 0.3247 - val_acc: 0.8830\n",
            "Epoch 23/30\n",
            "321/321 [==============================] - 123s 383ms/step - loss: 0.1920 - acc: 0.9235 - val_loss: 0.3575 - val_acc: 0.8789\n",
            "Epoch 24/30\n",
            "321/321 [==============================] - 124s 385ms/step - loss: 0.1974 - acc: 0.9225 - val_loss: 0.3626 - val_acc: 0.8734\n",
            "Epoch 25/30\n",
            "321/321 [==============================] - 124s 386ms/step - loss: 0.1917 - acc: 0.9241 - val_loss: 0.3496 - val_acc: 0.8804\n",
            "Epoch 26/30\n",
            "321/321 [==============================] - 123s 385ms/step - loss: 0.1747 - acc: 0.9315 - val_loss: 0.3427 - val_acc: 0.8789\n",
            "Epoch 27/30\n",
            "321/321 [==============================] - 124s 387ms/step - loss: 0.1667 - acc: 0.9340 - val_loss: 0.3240 - val_acc: 0.8866\n",
            "Epoch 28/30\n",
            "321/321 [==============================] - 124s 386ms/step - loss: 0.1614 - acc: 0.9378 - val_loss: 0.3344 - val_acc: 0.8811\n",
            "Epoch 29/30\n",
            "321/321 [==============================] - 123s 384ms/step - loss: 0.1528 - acc: 0.9419 - val_loss: 0.3363 - val_acc: 0.8881\n",
            "Epoch 30/30\n",
            "321/321 [==============================] - 124s 387ms/step - loss: 0.1446 - acc: 0.9446 - val_loss: 0.3032 - val_acc: 0.8921\n"
          ],
          "name": "stdout"
        },
        {
          "output_type": "execute_result",
          "data": {
            "text/plain": [
              "<keras.callbacks.History at 0x7f29197a3a58>"
            ]
          },
          "metadata": {
            "tags": []
          },
          "execution_count": 51
        }
      ]
    },
    {
      "cell_type": "code",
      "metadata": {
        "id": "lRNKRBBR0bpV",
        "colab_type": "code",
        "colab": {}
      },
      "source": [
        "test_imgs=np.array([np.int32(\n",
        "    imresize(imread('/'.join([base_path, im]))[-150:], size=(\n",
        "        66, 200))) /255 for im in test.img])\n"
      ],
      "execution_count": 0,
      "outputs": []
    },
    {
      "cell_type": "code",
      "metadata": {
        "id": "XWIUxiSB8yKW",
        "colab_type": "code",
        "colab": {
          "base_uri": "https://localhost:8080/",
          "height": 67
        },
        "outputId": "18b1e2b9-cba1-45b9-9881-033d3e5664db"
      },
      "source": [
        "y_test= np.array(test.drop(['img'],inplace=False, axis=1))\n",
        "loss, acc=model.evaluate(test_imgs, y_test, batch_size=50)\n",
        "print ('test_loss=%f'%loss)\n",
        "print ('test_acc=%0.3f'%(acc*100)+'%')"
      ],
      "execution_count": 55,
      "outputs": [
        {
          "output_type": "stream",
          "text": [
            "10938/10938 [==============================] - 3s 244us/step\n",
            "test_loss=0.367970\n",
            "test_acc=88.801%\n"
          ],
          "name": "stdout"
        }
      ]
    },
    {
      "cell_type": "code",
      "metadata": {
        "id": "w8Ngba6VE2HN",
        "colab_type": "code",
        "colab": {}
      },
      "source": [
        ""
      ],
      "execution_count": 0,
      "outputs": []
    }
  ]
}